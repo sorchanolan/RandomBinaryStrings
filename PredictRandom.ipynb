{
 "cells": [
  {
   "cell_type": "code",
   "execution_count": 1,
   "metadata": {},
   "outputs": [],
   "source": [
    "import numpy as np\n",
    "from scipy import stats"
   ]
  },
  {
   "cell_type": "code",
   "execution_count": 2,
   "metadata": {},
   "outputs": [],
   "source": [
    "# Make sure the input data only includes 1s and 0s\n",
    "# Assume any lines with other chars are human-generated (human error)\n",
    "\n",
    "def clean_data_test(line):\n",
    "    allowed = set('1' + '0')\n",
    "    return set(line) > allowed"
   ]
  },
  {
   "cell_type": "code",
   "execution_count": 3,
   "metadata": {},
   "outputs": [],
   "source": [
    "# Simple test for whether the sample is within a normal Bernoulli distribution\n",
    "\n",
    "def binomial_test(line):\n",
    "    p = stats.binom_test(line.count('1'), len(line))\n",
    "    return p < 0.05"
   ]
  },
  {
   "cell_type": "code",
   "execution_count": 4,
   "metadata": {},
   "outputs": [],
   "source": [
    "# Calculate the transition occurrences matrix, which counts occurrences of a pattern \n",
    "# n represents the number of previous chars we're tracking\n",
    "# The columns represent the previous state, rows represent the current state\n",
    "# ie for n=2 [00 -> 0, 01 -> 0]\n",
    "#            [10 -> 1, 11 -> 1]\n",
    "# Dividing each by the sum of its column will get the probability of that pattern transition\n",
    "# Flattening the matrix will get the number of occurrences of each permutation at size n\n",
    "\n",
    "def get_transition_matrix(line, n):\n",
    "    num_permutations = 2**(n-1)\n",
    "    transition_matrix = np.zeros((2, num_permutations), dtype=int)\n",
    "    \n",
    "    if n < 2:\n",
    "        return transition_matrix\n",
    "    \n",
    "    for i in range(n-1, len(line)):\n",
    "        curr_outcome = int(line[i])\n",
    "        prev_pattern = line[i-n+1:i]\n",
    "        col_index = int(prev_pattern, 2)\n",
    "        \n",
    "        transition_matrix[curr_outcome,col_index] += 1\n",
    "    \n",
    "    return transition_matrix"
   ]
  },
  {
   "cell_type": "code",
   "execution_count": 5,
   "metadata": {},
   "outputs": [],
   "source": [
    "# Test the hypothesis that p=0.5 (iid) for each transition\n",
    "\n",
    "def markov_test(line, n):\n",
    "    transition_matrix = get_transition_matrix(line, n)\n",
    "    \n",
    "    for column in transition_matrix.T:\n",
    "        p = stats.binom_test(column)\n",
    "        if p < 0.05:\n",
    "            return True\n",
    "    return False\n",
    "\n",
    "def run_markov_tests(line):\n",
    "    for n in range(2, 4):\n",
    "        if markov_test(line, n):\n",
    "            return True\n",
    "    return False"
   ]
  },
  {
   "cell_type": "code",
   "execution_count": 6,
   "metadata": {},
   "outputs": [],
   "source": [
    "# Calculate average random standard deviations for transition matrices of size n\n",
    "\n",
    "def get_random_st_devs():\n",
    "    st_dev_by_size = dict()\n",
    "    \n",
    "    sample_size = 1000\n",
    "    random_data = generate_train_data(sample_size)\n",
    "    \n",
    "    for n in range(2, 6):\n",
    "        st_dev = 0\n",
    "        for data in random_data:\n",
    "            permutation_matrix = get_transition_matrix(data, n).flatten()\n",
    "            st_dev += np.std(permutation_matrix)\n",
    "\n",
    "        st_dev_by_size[n] = st_dev / sample_size\n",
    "\n",
    "    return st_dev_by_size"
   ]
  },
  {
   "cell_type": "code",
   "execution_count": 7,
   "metadata": {},
   "outputs": [],
   "source": [
    "# Identify if there are any patterns used significantly more than average throughout a sample\n",
    "\n",
    "def pattern_matching(line, n, st_dev):\n",
    "    permutation_matrix = get_transition_matrix(line, n).flatten()\n",
    "    mean = len(line) / len(permutation_matrix)\n",
    "    \n",
    "    for pattern in permutation_matrix:\n",
    "        if pattern > mean + st_dev * 3:\n",
    "            return True\n",
    "    return False\n",
    "\n",
    "def run_pattern_matching(line, st_devs):\n",
    "    for n in range(3, 6):\n",
    "        if pattern_matching(line, n, st_devs.get(n)):\n",
    "            return True\n",
    "    return False"
   ]
  },
  {
   "cell_type": "code",
   "execution_count": 8,
   "metadata": {},
   "outputs": [],
   "source": [
    "# Run different tests in order and mark results[index] as true if it detects human-generated behaviour\n",
    "\n",
    "def process_data(data):\n",
    "    st_devs = get_random_st_devs()\n",
    "    results = dict()\n",
    "    \n",
    "    for index in range(len(data)):\n",
    "        line = data[index].strip()\n",
    "\n",
    "        if clean_data_test(line):\n",
    "            results[index] = True\n",
    "            continue\n",
    "\n",
    "        if binomial_test(line):\n",
    "            results[index] = True\n",
    "            continue\n",
    "\n",
    "        if run_markov_tests(line):\n",
    "            results[index] = True\n",
    "            continue\n",
    "\n",
    "        if run_pattern_matching(line, st_devs):\n",
    "            results[index] = True\n",
    "            continue\n",
    "        \n",
    "        results[index] = False\n",
    "\n",
    "    return results"
   ]
  },
  {
   "cell_type": "code",
   "execution_count": 9,
   "metadata": {},
   "outputs": [],
   "source": [
    "# Generate random training data or get it from strings.txt\n",
    "\n",
    "from random import randint, seed\n",
    "\n",
    "def generate_line():\n",
    "    line = \"\"\n",
    "    for i in range(0, 150):\n",
    "        line += str(randint(0, 1))\n",
    "    return line\n",
    "\n",
    "def generate_train_data(length):\n",
    "    seed(11)\n",
    "    lst = []\n",
    "    for i in range(0, length):\n",
    "        lst.append(generate_line())\n",
    "    return lst\n",
    "\n",
    "def get_data(test):\n",
    "    if test:\n",
    "        strings_file = open('strings.txt', 'r')\n",
    "        return strings_file.readlines()\n",
    "\n",
    "    return generate_train_data(1000)"
   ]
  },
  {
   "cell_type": "code",
   "execution_count": 11,
   "metadata": {},
   "outputs": [
    {
     "name": "stdout",
     "output_type": "stream",
     "text": [
      "False Positive Rate: 29.800000%\n"
     ]
    }
   ],
   "source": [
    "# Test matching on all randomly generated strings\n",
    "\n",
    "data = get_data(False)\n",
    "training_results = process_data(data)\n",
    "print('False Positive Rate: %f%%' % float(sum(training_results.values()) / len(training_results) * 100))"
   ]
  },
  {
   "cell_type": "code",
   "execution_count": 12,
   "metadata": {},
   "outputs": [
    {
     "name": "stdout",
     "output_type": "stream",
     "text": [
      "True Positive Rate: 96.666667%\n"
     ]
    }
   ],
   "source": [
    "# Test on human-generated strings\n",
    "\n",
    "strings_file = open('human_strings.txt', 'r')\n",
    "human_strings = strings_file.readlines()\n",
    "human_results = process_data(human_strings)\n",
    "\n",
    "print('True Positive Rate: %f%%' % float(sum(human_results.values()) / len(human_strings) * 100))"
   ]
  },
  {
   "cell_type": "code",
   "execution_count": 13,
   "metadata": {},
   "outputs": [
    {
     "name": "stdout",
     "output_type": "stream",
     "text": [
      "{0: True, 1: True, 2: True, 3: False, 4: True, 5: False, 6: False, 7: False, 8: False, 9: False, 10: False, 11: False, 12: True, 13: False, 14: True, 15: True, 16: False, 17: False, 18: False, 19: True, 20: True, 21: True, 22: False, 23: False, 24: True, 25: False, 26: False, 27: False, 28: True, 29: False, 30: False, 31: False, 32: False, 33: False, 34: False, 35: True, 36: False, 37: True, 38: True, 39: True, 40: True, 41: False, 42: True, 43: False, 44: True, 45: False, 46: False, 47: False, 48: True, 49: False, 50: True, 51: False, 52: False, 53: True, 54: True, 55: True, 56: False, 57: True, 58: True, 59: False, 60: True, 61: False, 62: True, 63: True, 64: False, 65: True, 66: False, 67: False, 68: False, 69: False, 70: False, 71: True, 72: False, 73: False, 74: False, 75: False, 76: False, 77: True, 78: False, 79: True, 80: False, 81: False, 82: True, 83: True, 84: False, 85: False, 86: True, 87: True, 88: True, 89: True, 90: False, 91: True, 92: True, 93: True, 94: False, 95: False, 96: False, 97: False, 98: False, 99: True, 100: True, 101: True, 102: True, 103: False, 104: True, 105: True, 106: True, 107: False, 108: True, 109: False, 110: False, 111: False, 112: True, 113: False, 114: True, 115: False, 116: False, 117: True, 118: False, 119: False, 120: True, 121: True, 122: False, 123: False}\n",
      "Found 55 human-generated strings\n"
     ]
    }
   ],
   "source": [
    "# Run tests on strings.txt to get results\n",
    "\n",
    "data = get_data(True)\n",
    "results = process_data(data)\n",
    "\n",
    "print(results)\n",
    "print('Found %s human-generated strings' % sum(results.values()))"
   ]
  },
  {
   "cell_type": "code",
   "execution_count": null,
   "metadata": {},
   "outputs": [],
   "source": []
  }
 ],
 "metadata": {
  "kernelspec": {
   "display_name": "Python 3",
   "language": "python",
   "name": "python3"
  },
  "language_info": {
   "codemirror_mode": {
    "name": "ipython",
    "version": 3
   },
   "file_extension": ".py",
   "mimetype": "text/x-python",
   "name": "python",
   "nbconvert_exporter": "python",
   "pygments_lexer": "ipython3",
   "version": "3.8.3"
  }
 },
 "nbformat": 4,
 "nbformat_minor": 4
}
